{
 "cells": [
  {
   "cell_type": "code",
   "execution_count": 4,
   "id": "89524643-0421-4138-9125-3c80a52228c8",
   "metadata": {
    "scrolled": true
   },
   "outputs": [],
   "source": [
    "text1 = \"Shakespearean, I'm enjoying this class. This is my second class.\"\n",
    "import nltk\n",
    "fd = nltk.FreqDist(text1.split())"
   ]
  },
  {
   "cell_type": "code",
   "execution_count": 5,
   "id": "95e7dce2-8bcd-4ba0-b9e9-166371bf329c",
   "metadata": {},
   "outputs": [
    {
     "data": {
      "text/plain": [
       "FreqDist({'class.': 2, 'Shakespearean,': 1, \"I'm\": 1, 'enjoying': 1, 'this': 1, 'This': 1, 'is': 1, 'my': 1, 'second': 1})"
      ]
     },
     "execution_count": 5,
     "metadata": {},
     "output_type": "execute_result"
    }
   ],
   "source": [
    "fd\n"
   ]
  },
  {
   "cell_type": "code",
   "execution_count": 6,
   "id": "85991d6c-6873-49ab-9039-20429000e76d",
   "metadata": {},
   "outputs": [],
   "source": [
    "from nltk.probability import ConditionalFreqDist\n",
    "cfd = ConditionalFreqDist((len(word), word) for word in text1.split())"
   ]
  },
  {
   "cell_type": "code",
   "execution_count": 7,
   "id": "9a73af43-8936-44bf-9136-7e198783b19c",
   "metadata": {},
   "outputs": [
    {
     "data": {
      "text/plain": [
       "FreqDist({'Shakespearean,': 1})"
      ]
     },
     "execution_count": 7,
     "metadata": {},
     "output_type": "execute_result"
    }
   ],
   "source": [
    "cfd[14]"
   ]
  },
  {
   "cell_type": "code",
   "execution_count": 8,
   "id": "dbc1cff7-cdba-4bac-9e77-24fe80f04a52",
   "metadata": {},
   "outputs": [],
   "source": [
    "import jieba"
   ]
  },
  {
   "cell_type": "code",
   "execution_count": 9,
   "id": "92131592-9a3e-47fe-89bc-338ec5075cd3",
   "metadata": {},
   "outputs": [],
   "source": [
    "seg_list = jieba.cut(\"自然语言\", cut_all=True)"
   ]
  },
  {
   "cell_type": "code",
   "execution_count": 10,
   "id": "f5b366ac-601a-4e0f-9142-5f368d584626",
   "metadata": {},
   "outputs": [
    {
     "name": "stdout",
     "output_type": "stream",
     "text": [
      "<generator object Tokenizer.cut at 0x000002311EEC45C0>\n"
     ]
    }
   ],
   "source": [
    "print(seg_list)"
   ]
  },
  {
   "cell_type": "code",
   "execution_count": 11,
   "id": "afb78a7b-1123-4141-b3d7-4a1c0f59bbb7",
   "metadata": {},
   "outputs": [
    {
     "name": "stderr",
     "output_type": "stream",
     "text": [
      "Building prefix dict from the default dictionary ...\n",
      "Dumping model to file cache C:\\Users\\antil\\AppData\\Local\\Temp\\jieba.cache\n",
      "Loading model cost 1.463 seconds.\n",
      "Prefix dict has been built successfully.\n"
     ]
    },
    {
     "name": "stdout",
     "output_type": "stream",
     "text": [
      "自然, 自然语言, 语言\n"
     ]
    }
   ],
   "source": [
    "print(\", \".join(seg_list))"
   ]
  },
  {
   "cell_type": "code",
   "execution_count": null,
   "id": "330407a3-1844-4b3a-b3ce-38641796adc2",
   "metadata": {},
   "outputs": [],
   "source": []
  }
 ],
 "metadata": {
  "kernelspec": {
   "display_name": "Python 3 (ipykernel)",
   "language": "python",
   "name": "python3"
  },
  "language_info": {
   "codemirror_mode": {
    "name": "ipython",
    "version": 3
   },
   "file_extension": ".py",
   "mimetype": "text/x-python",
   "name": "python",
   "nbconvert_exporter": "python",
   "pygments_lexer": "ipython3",
   "version": "3.11.6"
  }
 },
 "nbformat": 4,
 "nbformat_minor": 5
}
